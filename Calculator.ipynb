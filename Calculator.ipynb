{
 "cells": [
  {
   "cell_type": "code",
   "execution_count": null,
   "metadata": {},
   "outputs": [],
   "source": [
    "from tkinter import *\n",
    "l=['off','/','*','-','9','8','7','6 ','5','4','3','2','1','0','.','+','=','c','% ','bck']\n",
    "j=0\n",
    "\n",
    "def click(event):\n",
    "    global screen\n",
    "    text=event.widget.cget('text')\n",
    "    print(text)\n",
    "    if text ==\"=\":\n",
    "        if scale.get().isdigit():\n",
    "            value=int(scale.get())\n",
    "        else:\n",
    "            value=eval(screen.get())\n",
    "            \n",
    "        scale.set(value)\n",
    "        screen.update()\n",
    "    elif text==\"c\":\n",
    "        scale.set(\"\")\n",
    "        screen.update()\n",
    "    elif text==\"bck\":\n",
    "        r=screen.get()\n",
    "        r=r[:-1]\n",
    "        scale.set(r)\n",
    "        screen.update()\n",
    "    elif text==\"off\":\n",
    "        root.destroy()\n",
    "    else:       \n",
    "        scale.set(scale.get()+text)\n",
    "        screen.update()\n",
    "\n",
    "\n",
    "root=Tk()\n",
    "root.geometry('400x400')\n",
    "scale=StringVar()\n",
    "scale.get()\n",
    "screen=Entry(root,textvar=scale,font=\"Helvetica 56 bold\",)\n",
    "screen.pack(fill='both',padx=10,pady=10)\n",
    "\n",
    "\n",
    "for i in range(5):\n",
    "    f=Frame(root)\n",
    "    for i in range(4):\n",
    "        x=l.pop(j)\n",
    "        button=Button(f,text=x,font='Helvetica 33 bold', height = 1, width = 1)\n",
    "        button.pack(side=LEFT,fill='both',expand=True,)\n",
    "        button.bind('<Button-1>',click)\n",
    "    f.pack(fill='both',expand=True)\n",
    "\n",
    "\n",
    "root.mainloop()\n"
   ]
  },
  {
   "cell_type": "code",
   "execution_count": null,
   "metadata": {},
   "outputs": [],
   "source": []
  }
 ],
 "metadata": {
  "kernelspec": {
   "display_name": "Python 3",
   "language": "python",
   "name": "python3"
  },
  "language_info": {
   "codemirror_mode": {
    "name": "ipython",
    "version": 3
   },
   "file_extension": ".py",
   "mimetype": "text/x-python",
   "name": "python",
   "nbconvert_exporter": "python",
   "pygments_lexer": "ipython3",
   "version": "3.7.3"
  }
 },
 "nbformat": 4,
 "nbformat_minor": 2
}
