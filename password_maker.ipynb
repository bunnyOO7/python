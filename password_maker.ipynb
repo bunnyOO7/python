{
 "cells": [
  {
   "cell_type": "code",
   "execution_count": null,
   "metadata": {},
   "outputs": [],
   "source": [
    "import  random \n",
    "s=\"\"\n",
    "\n",
    "def add(a):\n",
    "    global s\n",
    "    s=s+a\n",
    "    return s\n",
    "for i in range(0,9):\n",
    "    q=random.randint(1,2)\n",
    "    if q==1:add(a=chr(random.randint(65,90)))\n",
    "    elif q==2:add(random.choice([\"!\",\"@\",\"#\",\"$\",\"%\",\"&\",]))\n",
    "    elif q==3:add(str(random.randint(0,9)))\n",
    "    elif q==4:add(a=chr(random.randint(97,122)))\n",
    "    else:\n",
    "        pass\n",
    "            \n",
    "\n",
    "print(f\"your password is     {s}\")"
   ]
  }
 ],
 "metadata": {
  "kernelspec": {
   "display_name": "Python 3",
   "language": "python",
   "name": "python3"
  },
  "language_info": {
   "codemirror_mode": {
    "name": "ipython",
    "version": 3
   },
   "file_extension": ".py",
   "mimetype": "text/x-python",
   "name": "python",
   "nbconvert_exporter": "python",
   "pygments_lexer": "ipython3",
   "version": "3.7.3"
  }
 },
 "nbformat": 4,
 "nbformat_minor": 2
}
